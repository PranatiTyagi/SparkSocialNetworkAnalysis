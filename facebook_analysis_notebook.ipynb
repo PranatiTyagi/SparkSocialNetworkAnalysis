{
 "cells": [
  {
   "cell_type": "markdown",
   "metadata": {},
   "source": [
    "# Facebook Social Network Analysis with Apache Spark\n",
    "\n",
    "This notebook provides an interactive analysis of Facebook social network data using Apache Spark GraphFrames.\n",
    "\n",
    "## Dataset: Facebook Social Circles\n",
    "- **4,039 users** (anonymized)\n",
    "- **88,234 friendships**\n",
    "- **Real social network data** from Stanford SNAP\n",
    "\n",
    "## Analysis Goals:\n",
    "1. **Network Structure Analysis** - Basic statistics and properties\n",
    "2. **Influence Analysis** - Identify most influential users (PageRank)\n",
    "3. **Community Detection** - Find social groups and clusters\n",
    "4. **Centrality Measures** - Analyze user importance\n",
    "5. **Network Patterns** - Discover triangles and connectivity"
   ]
  },
  {
   "cell_type": "code",
   "execution_count": null,
   "metadata": {},
   "outputs": [],
   "source": [
    "# Install required packages (run this first)\n",
    "# !pip install pyspark graphframes pandas matplotlib seaborn findspark"
   ]
  },
  {
   "cell_type": "code",
   "execution_count": null,
   "metadata": {},
   "outputs": [],
   "source": [
    "# Import required libraries\n",
    "import findspark\n",
    "findspark.init()\n",
    "\n",
    "from pyspark.sql import SparkSession\n",
    "from pyspark.sql.functions import col, count, desc, avg\n",
    "from graphframes import GraphFrame\n",
    "import pandas as pd\n",
    "import matplotlib.pyplot as plt\n",
    "import seaborn as sns\n",
    "\n",
    "# Configure plotting\n",
    "plt.style.use('seaborn-v0_8')\n",
    "sns.set_palette(\"husl\")\n",
    "%matplotlib inline"
   ]
  },
  {
   "cell_type": "code",
   "execution_count": null,
   "metadata": {},
   "outputs": [],
   "source": [
    "# Create Spark Session\n",
    "spark = SparkSession.builder \\\n",
    "    .appName(\"Facebook Social Network Analysis\") \\\n",
    "    .config(\"spark.jars.packages\", \"graphframes:graphframes:0.8.2-spark3.2-s_2.12\") \\\n",
    "    .config(\"spark.sql.adaptive.enabled\", \"true\") \\\n",
    "    .getOrCreate()\n",
    "\n",
    "print(f\"Spark Version: {spark.version}\")\n",
    "print(f\"Python Version: {spark.sparkContext.pythonVer}\")"
   ]
  },
  {
   "cell_type": "markdown",
   "metadata": {},
   "source": [
    "## 1. Data Loading and Graph Construction\n",
    "\n",
    "Load the Facebook friendship data and create a GraphFrame for analysis."
   ]
  },
  {
   "cell_type": "code",
   "execution_count": null,
   "metadata": {},
   "outputs": [],
   "source": [
    "# Load Facebook friendship data\n",
    "data_path = \"/Users/pranatityagi/Desktop/social-network-analysis/data/facebook_combined.txt\"\n",
    "\n",
    "# Load edge data (friendships)\n",
    "edges_df = spark.read.csv(\n",
    "    data_path,\n",
    "    sep=\" \",\n",
    "    schema=\"src LONG, dst LONG\"\n",
    ")\n",
    "\n",
    "print(\"Sample friendship data:\")\n",
    "edges_df.show(5)\n",
    "print(f\"Total friendships: {edges_df.count():,}\")"
   ]
  },
  {
   "cell_type": "code",
   "execution_count": null,
   "metadata": {},
   "outputs": [],
   "source": [
    "# Create vertices (users) from unique IDs\n",
    "src_vertices = edges_df.select(col(\"src\").alias(\"id\"))\n",
    "dst_vertices = edges_df.select(col(\"dst\").alias(\"id\"))\n",
    "vertices_df = src_vertices.union(dst_vertices).distinct()\n",
    "\n",
    "# Add user attributes\n",
    "vertices_df = vertices_df.withColumn(\"name\", col(\"id\").cast(\"string\"))\n",
    "\n",
    "print(f\"Total users: {vertices_df.count():,}\")\n",
    "print(\"Sample users:\")\n",
    "vertices_df.show(5)"
   ]
  },
  {
   "cell_type": "code",
   "execution_count": null,
   "metadata": {},
   "outputs": [],
   "source": [
    "# Create GraphFrame\n",
    "graph = GraphFrame(vertices_df, edges_df)\n",
    "\n",
    "print(\"✅ GraphFrame created successfully!\")\n",
    "print(f\"Vertices: {graph.vertices.count():,}\")\n",
    "print(f\"Edges: {graph.edges.count():,}\")"
   ]
  },
  {
   "cell_type": "markdown",
   "metadata": {},
   "source": [
    "## 2. Basic Network Statistics\n",
    "\n",
    "Calculate fundamental network properties and statistics."
   ]
  },
  {
   "cell_type": "code",
   "execution_count": null,
   "metadata": {},
   "outputs": [],
   "source": [
    "# Calculate degree statistics\n",
    "degrees_df = graph.degrees\n",
    "degree_stats = degrees_df.agg(\n",
    "    avg(\"degree\").alias(\"avg_degree\"),\n",
    "    count(\"degree\").alias(\"total_users\")\n",
    ").collect()[0]\n",
    "\n",
    "print(\"📊 Network Statistics:\")\n",
    "print(f\"   👥 Total Users: {degree_stats['total_users']:,}\")\n",
    "print(f\"   🤝 Total Friendships: {graph.edges.count():,}\")\n",
    "print(f\"   📈 Average Degree: {degree_stats['avg_degree']:.2f}\")\n",
    "\n",
    "# Most connected users\n",
    "print(\"\\n🏆 Most Connected Users:\")\n",
    "top_users = degrees_df.orderBy(desc(\"degree\")).limit(10).toPandas()\n",
    "for i, (_, row) in enumerate(top_users.iterrows()):\n",
    "    print(f\"   {i+1}. User {row['id']}: {row['degree']} connections\")"
   ]
  },
  {
   "cell_type": "code",
   "execution_count": null,
   "metadata": {},
   "outputs": [],
   "source": [
    "# Visualize degree distribution\n",
    "plt.figure(figsize=(12, 6))\n",
    "\n",
    "# Get degree distribution\n",
    "degree_dist = degrees_df.groupBy(\"degree\").count().orderBy(\"degree\").toPandas()\n",
    "\n",
    "plt.subplot(1, 2, 1)\n",
    "plt.bar(degree_dist['degree'], degree_dist['count'], alpha=0.7)\n",
    "plt.xlabel('Degree (Number of Friends)')\n",
    "plt.ylabel('Number of Users')\n",
    "plt.title('Degree Distribution')\n",
    "plt.grid(True, alpha=0.3)\n",
    "\n",
    "plt.subplot(1, 2, 2)\n",
    "plt.hist(degrees_df.toPandas()['degree'], bins=50, alpha=0.7, edgecolor='black')\n",
    "plt.xlabel('Degree')\n",
    "plt.ylabel('Frequency')\n",
    "plt.title('Degree Histogram')\n",
    "plt.grid(True, alpha=0.3)\n",
    "\n",
    "plt.tight_layout()\n",
    "plt.show()\n",
    "\n",
    "print(\"\\n📈 Degree Distribution Summary:\")\n",
    "print(f\"   Mean degree: {degrees_df.agg(avg('degree')).collect()[0][0]:.2f}\")\n",
    "print(f\"   Max degree: {degrees_df.agg({'degree': 'max'}).collect()[0][0]}\")\n",
    "print(f\"   Min degree: {degrees_df.agg({'degree': 'min'}).collect()[0][0]}\")"
   ]
  },
  {
   "cell_type": "markdown",
   "metadata": {},
   "source": [
    "## 3. Influence Analysis (PageRank)\n",
    "\n",
    "Identify the most influential users in the network using PageRank algorithm."
   ]
  },
  {
   "cell_type": "code",
   "execution_count": null,
   "metadata": {},
   "outputs": [],
   "source": [
    "# Calculate PageRank\n",
    "print(\"🎯 Calculating PageRank (this may take a few seconds)...\")\n",
    "\n",
    "pagerank_df = graph.pageRank(resetProbability=0.15, maxIter=10)\n",
    "\n",
    "# Get top influencers\n",
    "top_influencers = pagerank_df.vertices \\\n",
    "    .orderBy(desc(\"pagerank\")) \\\n",
    "    .limit(20) \\\n",
    "    .toPandas()\n",
    "\n",
    "print(\"\\n🏆 Top 10 Most Influential Users:\")\n",
    "print(\"Rank | User ID | PageRank Score\")\n",
    "print(\"-\" * 35)\n",
    "for i, (_, row) in enumerate(top_influencers.head(10).iterrows()):\n",
    "    print(f\"{i+1:2d}   | {row['id']:6d}  | {row['pagerank']:.6f}\")"
   ]
  },
  {
   "cell_type": "code",
   "execution_count": null,
   "metadata": {},
   "outputs": [],
   "source": [
    "# Visualize PageRank distribution\n",
    "plt.figure(figsize=(10, 6))\n",
    "\n",
    "# Get PageRank values for all users\n",
    "pagerank_values = pagerank_df.vertices.select(\"pagerank\").toPandas()\n",
    "\n",
    "plt.hist(pagerank_values['pagerank'], bins=50, alpha=0.7, edgecolor='black')\n",
    "plt.xlabel('PageRank Score')\n",
    "plt.ylabel('Number of Users')\n",
    "plt.title('PageRank Distribution')\n",
    "plt.grid(True, alpha=0.3)\n",
    "plt.show()\n",
    "\n",
    "print(\"\\n📊 PageRank Statistics:\")\n",
    "print(f\"   Mean PageRank: {pagerank_values['pagerank'].mean():.6f}\")\n",
    "print(f\"   Max PageRank: {pagerank_values['pagerank'].max():.6f}\")\n",
    "print(f\"   Min PageRank: {pagerank_values['pagerank'].min():.6f}\")"
   ]
  },
  {
   "cell_type": "markdown",
   "metadata": {},
   "source": [
    "## 4. Community Detection\n",
    "\n",
    "Find communities and social groups within the network."
   ]
  },
  {
   "cell_type": "code",
   "execution_count": null,
   "metadata": {},
   "outputs": [],
   "source": [
    "# Detect communities using Label Propagation\n",
    "print(\"🏘️ Detecting communities (this may take a moment)...\")\n",
    "\n",
    "communities_df = graph.labelPropagation(maxIter=5)\n",
    "\n",
    "# Analyze community sizes\n",
    "community_stats = communities_df.groupBy(\"label\") \\\n",
    "    .agg(count(\"*\").alias(\"size\")) \\\n",
    "    .orderBy(desc(\"size\")) \\\n",
    "    .toPandas()\n",
    "\n",
    "print(f\"\\n🏘️ Found {len(community_stats)} communities\")\n",
    "print(\"\\n📊 Community Size Distribution:\")\n",
    "print(\"Rank | Community ID | Size | Percentage\")\n",
    "print(\"-\" * 45)\n",
    "total_users = community_stats['size'].sum()\n",
    "for i, (_, row) in enumerate(community_stats.head(10).iterrows()):\n",
    "    percentage = (row['size'] / total_users) * 100\n",
    "    print(f\"{i+1:2d}   | {row['label']:10d}   | {row['size']:4d} | {percentage:5.1f}%\")"
   ]
  },
  {
   "cell_type": "code",
   "execution_count": null,
   "metadata": {},
   "outputs": [],
   "source": [
    "# Visualize community sizes\n",
    "plt.figure(figsize=(12, 6))\n",
    "\n",
    "plt.subplot(1, 2, 1)\n",
    "plt.bar(range(len(community_stats.head(20))), community_stats.head(20)['size'], alpha=0.7)\n",
    "plt.xlabel('Community Rank')\n",
    "plt.ylabel('Community Size')\n",
    "plt.title('Top 20 Communities by Size')\n",
    "plt.grid(True, alpha=0.3)\n",
    "\n",
    "plt.subplot(1, 2, 2)\n",
    "plt.pie(community_stats.head(10)['size'], \n",
    "        labels=[f'Comm {i+1}' for i in range(10)], \n",
    "        autopct='%1.1f%%',\n",
    "        startangle=90)\n",
    "plt.title('Top 10 Communities Distribution')\n",
    "plt.axis('equal')\n",
    "\n",
    "plt.tight_layout()\n",
    "plt.show()"
   ]
  },
  {
   "cell_type": "markdown",
   "metadata": {},
   "source": [
    "## 5. Triangle Counting\n",
    "\n",
    "Count triangles in the network to measure clustering and social cohesion."
   ]
  },
  {
   "cell_type": "code",
   "execution_count": null,
   "metadata": {},
   "outputs": [],
   "source": [
    "# Count triangles\n",
    "print(\"🔺 Counting triangles (measuring network clustering)...\")\n",
    "\n",
    "triangle_count = graph.triangleCount()\n",
    "total_triangles = triangle_count.agg({\"count\": \"sum\"}).collect()[0][0]\n",
    "\n",
    "# Get users with most triangles\n",
    "top_triangle_users = triangle_count \\\n",
    "    .orderBy(desc(\"count\")) \\\n",
    "    .limit(10) \\\n",
    "    .toPandas()\n",
    "\n",
    "print(f\"\\n🔺 Total triangles in network: {total_triangles:,}\")\n",
    "print(\"\\n👥 Users with most triangles:\")\n",
    "print(\"Rank | User ID | Triangle Count\")\n",
    "print(\"-\" * 30)\n",
    "for i, (_, row) in enumerate(top_triangle_users.iterrows()):\n",
    "    print(f\"{i+1:2d}   | {row['id']:6d}  | {row['count']:3d}\")"
   ]
  },
  {
   "cell_type": "markdown",
   "metadata": {},
   "source": [
    "## 6. Network Connectivity Analysis\n",
    "\n",
    "Analyze the overall connectivity of the network."
   ]
  },
  {
   "cell_type": "code",
   "execution_count": null,
   "metadata": {},
   "outputs": [],
   "source": [
    "# Find connected components\n",
    "print(\"🔗 Analyzing network connectivity...\")\n",
    "\n",
    "cc_df = graph.connectedComponents()\n",
    "component_stats = cc_df.groupBy(\"component\") \\\n",
    "    .agg(count(\"*\").alias(\"size\")) \\\n",
    "    .orderBy(desc(\"size\")) \\\n",
    "    .toPandas()\n",
    "\n",
    "print(f\"\\n🔗 Found {len(component_stats)} connected components\")\n",
    "print(\"\\n📊 Component Size Distribution:\")\n",
    "print(\"Rank | Component ID | Size | Percentage\")\n",
    "print(\"-\" * 45)\n",
    "for i, (_, row) in enumerate(component_stats.head(5).iterrows()):\n",
    "    percentage = (row['size'] / total_users) * 100\n",
    "    print(f\"{i+1:2d}   | {row['component']:10d}   | {row['size']:4d} | {percentage:5.1f}%\")\n",
    "\n",
    "# Check if network is fully connected\n",
    "if len(component_stats) == 1:\n",
    "    print(\"\\n✅ Network is fully connected!\")\n",
    "else:\n",
    "    print(f\"\\n⚠️ Network has {len(component_stats)} disconnected components\")\n",
    "    isolated_users = component_stats[component_stats['size'] == 1]['size'].sum()\n",
    "    print(f\"   👤 Isolated users: {isolated_users}\")"
   ]
  },
  {
   "cell_type": "markdown",
   "metadata": {},
   "source": [
    "## 7. Advanced Analysis: Shortest Paths\n",
    "\n",
    "Calculate shortest paths between influential users."
   ]
  },
  {
   "cell_type": "code",
   "execution_count": null,
   "metadata": {},
   "outputs": [],
   "source": [
    "# Find shortest paths between top influencers\n",
    "print(\"🛣️ Calculating shortest paths between top influencers...\")\n",
    "\n",
    "# Get top 5 influencers\n",
    "top_5_ids = [int(row['id']) for _, row in top_influencers.head(5).iterrows()]\n",
    "\n",
    "# Calculate shortest paths from first influencer to others\n",
    "source_id = top_5_ids[0]\n",
    "print(f\"\\n🛣️ Shortest paths from User {source_id} (most influential):\")\n",
    "\n",
    "for target_id in top_5_ids[1:3]:  # Check first 2 others\n",
    "    try:\n",
    "        # Find shortest path\n",
    "        path_df = graph.shortestPaths(landmarks=[target_id])\n",
    "        result = path_df.filter(col(\"id\") == source_id).collect()\n",
    "        \n",
    "        if result:\n",
    "            distances = result[0][f\"distances\"]\n",
    "            distance = distances.get(target_id, -1)\n",
    "            if distance > 0:\n",
    "                print(f\"   User {source_id} → User {target_id}: {distance} steps\")\n",
    "            else:\n",
    "                print(f\"   User {source_id} → User {target_id}: No path found\")\n",
    "        else:\n",
    "            print(f\"   User {source_id} → User {target_id}: No path found\")\n",
    "            \n",
    "    except Exception as e:\n",
    "        print(f\"   Error calculating path to User {target_id}: {str(e)}\")\n",
    "\n",
    "print(\"\\n💡 Shortest path analysis shows how closely connected influential users are!\")"
   ]
  },
  {
   "cell_type": "markdown",
   "metadata": {},
   "source": [
    "## 8. Summary and Insights\n",
    "\n",
    "Key findings from our Facebook social network analysis."
   ]
  },
  {
   "cell_type": "code",
   "execution_count": null,
   "metadata": {},
   "outputs": [],
   "source": [
    "# Generate comprehensive summary\n",
    "print(\"🎉 Facebook Social Network Analysis - Summary\")\n",
    "print(\"=\" * 50)\n",
    "\n",
    "print(f\"\\n📊 Network Overview:\")\n",
    "print(f\"   • Users: {graph.vertices.count():,}\")\n",
    "print(f\"   • Friendships: {graph.edges.count():,}\")\n",
    "print(f\"   • Average connections per user: {degree_stats['avg_degree']:.1f}\")\n",
    "print(f\"   • Most connected user: {top_users.iloc[0]['degree']} friends\")\n",
    "\n",
    "print(f\"\\n🏆 Influence Analysis:\")\n",
    "print(f\"   • Top influencer PageRank: {top_influencers.iloc[0]['pagerank']:.6f}\")\n",
    "print(f\"   • Most influential user ID: {int(top_influencers.iloc[0]['id'])}\")\n",
    "\n",
    "print(f\"\\n🏘️ Community Structure:\")\n",
    "print(f\"   • Number of communities: {len(community_stats)}\")\n",
    "print(f\"   • Largest community: {community_stats.iloc[0]['size']:,} users ({(community_stats.iloc[0]['size']/total_users)*100:.1f}%)\")\n",
    "\n",
    "print(f\"\\n🔺 Network Clustering:\")\n",
    "print(f\"   • Total triangles: {total_triangles:,}\")\n",
    "print(f\"   • Clustering coefficient proxy: {(total_triangles * 3) / graph.edges.count():.4f}\")\n",
    "\n",
    "print(f\"\\n🔗 Network Connectivity:\")\n",
    "if len(component_stats) == 1:\n",
    "    print(f\"   • ✅ Fully connected network\")\n",
    "else:\n",
    "    print(f\"   • ⚠️ {len(component_stats)} disconnected components\")\n",
    "    print(f\"   • 👤 Isolated users: {component_stats[component_stats['size'] == 1]['size'].sum()}\")\n",
    "\n",
    "print(\"\\n💡 Key Insights:\")\n",
    "print(\"   • This Facebook network shows strong community structure\")\n",
    "print(\"   • Influential users are well-connected within their communities\")\n",
    "print(\"   • The network demonstrates high clustering (many triangles)\")\n",
    "print(\"   • Social connections follow power-law distribution\")\n",
    "\n",
    "print(\"🚀 Analysis completed successfully!\")\n",
    "print(\"   Use this notebook to explore different aspects of the network.\")"
   ]
  },
  {
   "cell_type": "code",
   "execution_count": null,
   "metadata": {},
   "outputs": [],
   "source": [
    "# Clean up Spark session\n",
    "spark.stop()\n",
    "print(\"🧹 Spark session stopped. Analysis complete!\")"
   ]
  }
 ],
 "metadata": {
  "kernelspec": {
   "display_name": "Python 3",
   "language": "python",
   "name": "python3"
  },
  "language_info": {
   "codemirror_mode": {
    "name": "ipython",
    "version": 3
   },
   "file_extension": ".py",
   "mimetype": "text/x-python",
   "name": "python",
   "nbconvert_exporter": "python",
   "pygments_lexer": "ipython3",
   "version": "3.8.5"
  }
 },
 "nbformat": 4,
 "nbformat_minor": 4
}
